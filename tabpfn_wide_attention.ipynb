{
 "cells": [
  {
   "cell_type": "code",
   "execution_count": 2,
   "id": "e1785e36",
   "metadata": {},
   "outputs": [],
   "source": [
    "from tabpfnwide.patches import compute_attention_heads, _compute\n",
    "from tabpfn.model.attention.full_attention import MultiHeadAttention\n",
    "setattr(MultiHeadAttention, \"compute_attention_heads\", compute_attention_heads)\n",
    "setattr(MultiHeadAttention, \"_compute\", _compute)\n",
    "import torch\n",
    "import numpy as np\n",
    "from sklearn.model_selection import train_test_split\n",
    "from tabpfn.model.loading import load_model_criterion_config\n",
    "device = torch.device(\"cuda\" if torch.cuda.is_available() else \"cpu\")"
   ]
  },
  {
   "cell_type": "markdown",
   "id": "09c87e3c",
   "metadata": {},
   "source": [
    "### Load model"
   ]
  },
  {
   "cell_type": "code",
   "execution_count": 3,
   "id": "7ad3e083",
   "metadata": {},
   "outputs": [],
   "source": [
    "\n",
    "model_name = \"TabPFN-Wide-8k\" \n",
    "assert model_name in [\"TabPFN-Wide-1.5k\", \"TabPFN-Wide-5k\", \"TabPFN-Wide-8k\", \"TabPFNv2\"], f\"Model name {model_name} not recognized.\"\n",
    "checkpoint_path = f\"./models/{model_name}_submission.pt\"\n",
    "model, _, _ = load_model_criterion_config(\n",
    "    model_path=None,\n",
    "    check_bar_distribution_criterion=False,\n",
    "    cache_trainset_representation=False,\n",
    "    which='classifier',\n",
    "    version='v2',\n",
    "    download=True,\n",
    ")\n",
    "if model_name != \"TabPFNv2\":\n",
    "    model.features_per_group = 1\n",
    "    checkpoint = torch.load(checkpoint_path, map_location=device, weights_only=False)\n",
    "    model.load_state_dict(checkpoint)"
   ]
  },
  {
   "cell_type": "markdown",
   "id": "ad9fd243",
   "metadata": {},
   "source": [
    "### Generate dataset and add noise features"
   ]
  },
  {
   "cell_type": "code",
   "execution_count": 4,
   "id": "546f253f",
   "metadata": {},
   "outputs": [],
   "source": [
    "from sklearn.datasets import make_classification\n",
    "\n",
    "X, y = make_classification(\n",
    "    n_samples=100,\n",
    "    n_features=3,\n",
    "    n_informative=3,\n",
    "    n_redundant=0,\n",
    "    n_classes=2,\n",
    "    random_state=42\n",
    ")\n",
    "\n",
    "# Widen X with noise\n",
    "noise = np.random.normal(0, 1, (X.shape[0], 18))\n",
    "X_new = np.hstack((noise, X))\n",
    "# Permuute columns randomly\n",
    "permutation = np.random.permutation(X_new.shape[1])\n",
    "X_new = X_new[:, permutation]\n",
    "\n",
    "X, y = torch.tensor(X_new, dtype=torch.float32), torch.tensor(y, dtype=torch.int8)"
   ]
  },
  {
   "cell_type": "code",
   "execution_count": null,
   "id": "5180973c",
   "metadata": {},
   "outputs": [],
   "source": [
    "X_train, X_test, y_train, y_test = train_test_split(X, y, test_size=0.2, random_state=42)\n",
    "X_train_tensor = X_train.unsqueeze(1).to(device)\n",
    "X_test_tensor = X_test.unsqueeze(1).to(device)\n",
    "y_train_tensor = torch.tensor(y_train, dtype=torch.int8).unsqueeze(1).to(device)\n",
    "y_test_tensor = torch.tensor(y_test, dtype=torch.int8).unsqueeze(1).to(device)\n",
    "# Activate attention map saving\n",
    "for layer in model.transformer_encoder.layers:\n",
    "    layer.self_attn_between_features.attention_map = None\n",
    "    layer.self_attn_between_features.save_att_map = True\n",
    "    layer.self_attn_between_features.number_of_samples = X_train_tensor.shape[0]\n",
    "\n",
    "with torch.inference_mode():\n",
    "    with torch.autocast(device_type=\"cuda\", dtype=torch.float16):\n",
    "        pred_logits = model(\n",
    "            train_x=X_train_tensor,\n",
    "            train_y=y_train_tensor,\n",
    "            test_x=X_test_tensor,\n",
    "        )\n",
    "        n_classes = len(np.unique(y_train_tensor.cpu()))\n",
    "        pred_logits = pred_logits[..., :n_classes].float()  \n",
    "        pred_probs = torch.softmax(pred_logits, dim=-1)[:, 0, :].detach().cpu().numpy()"
   ]
  },
  {
   "cell_type": "markdown",
   "id": "6ad27d5b",
   "metadata": {},
   "source": [
    "### Retrieve attention maps"
   ]
  },
  {
   "cell_type": "code",
   "execution_count": 6,
   "id": "c5088fde",
   "metadata": {},
   "outputs": [],
   "source": [
    "atts = [getattr(layer.get_submodule(\"self_attn_between_features\"), \"attention_map\") for layer in model.transformer_encoder.layers]\n",
    "atts = torch.stack(atts, dim=0)\n",
    "att_to_last_column = atts.mean(dim=0)[-1, :-1]"
   ]
  },
  {
   "cell_type": "code",
   "execution_count": 7,
   "id": "d1d8c600",
   "metadata": {},
   "outputs": [
    {
     "name": "stdout",
     "output_type": "stream",
     "text": [
      "Indices of the 10 most important features (according to attention to the last column):\n",
      "[ 1  0 10 14  2 11 17 20  9 18]\n",
      "Indices of the original features in the permuted array: [ 9 18 20]\n"
     ]
    }
   ],
   "source": [
    "print(\"Indices of the 10 most important features (according to attention to the last column):\")\n",
    "print(np.argsort(att_to_last_column.cpu().numpy())[-10:])\n",
    "original_feature_indices = np.where(np.isin(permutation, [18, 19, 20]))[0]\n",
    "print(\"Indices of the original features in the permuted array:\", original_feature_indices)"
   ]
  },
  {
   "cell_type": "markdown",
   "id": "5df3f390",
   "metadata": {},
   "source": [
    "### The 3 most important features according to the attention score are the original features."
   ]
  }
 ],
 "metadata": {
  "kernelspec": {
   "display_name": "tabpfn",
   "language": "python",
   "name": "python3"
  },
  "language_info": {
   "codemirror_mode": {
    "name": "ipython",
    "version": 3
   },
   "file_extension": ".py",
   "mimetype": "text/x-python",
   "name": "python",
   "nbconvert_exporter": "python",
   "pygments_lexer": "ipython3",
   "version": "3.12.8"
  }
 },
 "nbformat": 4,
 "nbformat_minor": 5
}
